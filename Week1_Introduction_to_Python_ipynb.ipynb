{
  "nbformat": 4,
  "nbformat_minor": 0,
  "metadata": {
    "@webio": {
      "lastCommId": null,
      "lastKernelId": null
    },
    "kernelspec": {
      "display_name": "Python 3",
      "language": "python",
      "name": "python3"
    },
    "language_info": {
      "codemirror_mode": {
        "name": "ipython",
        "version": 3
      },
      "file_extension": ".py",
      "mimetype": "text/x-python",
      "name": "python",
      "nbconvert_exporter": "python",
      "pygments_lexer": "ipython3",
      "version": "3.7.4"
    },
    "colab": {
      "name": "「Week1 Introduction to Python.ipynb」的副本",
      "provenance": [],
      "include_colab_link": true
    }
  },
  "cells": [
    {
      "cell_type": "markdown",
      "metadata": {
        "id": "view-in-github",
        "colab_type": "text"
      },
      "source": [
        "<a href=\"https://colab.research.google.com/github/vivien0109/DongShan/blob/master/Week1_Introduction_to_Python_ipynb.ipynb\" target=\"_parent\"><img src=\"https://colab.research.google.com/assets/colab-badge.svg\" alt=\"Open In Colab\"/></a>"
      ]
    },
    {
      "cell_type": "markdown",
      "metadata": {
        "id": "_-s5cFWcwCD9",
        "colab_type": "text"
      },
      "source": [
        "![](http://www.tshs.tp.edu.tw/images/bg/logo.jpg) \n",
        "\n",
        "## 多元選修課程：Python與人工智慧程式設計\n",
        "\n",
        "# 【第一週】Python簡介 - 範例程式\n",
        "\n",
        "今天的程式讓同學們體驗Python的一些功能和特性，詳細的語法及用法在課程中都會詳細介紹。\n",
        "\n",
        "藉由執行程式，同學們也可以熟悉colab或是Jupyter Notebook的功能。"
      ]
    },
    {
      "cell_type": "markdown",
      "metadata": {
        "id": "tuA2ynTwwCD-",
        "colab_type": "text"
      },
      "source": [
        "## 【任務1-4】檢查 Python 環境及版本\n",
        "\n",
        "在 colab 或是 Jupyter Notebook 中，我們可以用 `!` 加上指令名稱及參數，來執行指令。例如 `python3` 指令加上參數 `-V`，就可以列出我們正在使用的Python版本。\n",
        "\n",
        "在課程當中，我們需要用到的版本是 3.5 - 3.7 之間的版本，**大於或小於這個版本都是不行的喔**。"
      ]
    },
    {
      "cell_type": "code",
      "metadata": {
        "id": "wIBIk9w2wCD_",
        "colab_type": "code",
        "colab": {},
        "outputId": "d4b7ff08-0d3c-49f5-8472-118da02360e1"
      },
      "source": [
        "!python3 -V"
      ],
      "execution_count": null,
      "outputs": [
        {
          "output_type": "stream",
          "text": [
            "Python 3.7.4\n"
          ],
          "name": "stdout"
        }
      ]
    },
    {
      "cell_type": "markdown",
      "metadata": {
        "id": "6owluMB3wCEE",
        "colab_type": "text"
      },
      "source": [
        "## 【任務1-5】打開Python彩蛋\n",
        "\n",
        "### 彩蛋1：最簡單打出hello world的方法"
      ]
    },
    {
      "cell_type": "code",
      "metadata": {
        "id": "NC_cE0iawCEE",
        "colab_type": "code",
        "colab": {},
        "outputId": "4c6b1f93-9ef3-4cc6-be8b-b4d46d588f6a"
      },
      "source": [
        "import __hello__"
      ],
      "execution_count": null,
      "outputs": [
        {
          "output_type": "stream",
          "text": [
            "Hello world!\n"
          ],
          "name": "stdout"
        }
      ]
    },
    {
      "cell_type": "markdown",
      "metadata": {
        "id": "VkoH4GaJwCEH",
        "colab_type": "text"
      },
      "source": [
        "### 彩蛋2：《Python之禪》詩\n",
        "\n",
        "Python的精神，作者是 Tim Peters，每個有追求的Python程式設計師都應該謹記於心。中文翻譯可以參考 [URL](https://codertw.com/%E7%A8%8B%E5%BC%8F%E8%AA%9E%E8%A8%80/583308/)"
      ]
    },
    {
      "cell_type": "code",
      "metadata": {
        "id": "DDIAfHLzwCEI",
        "colab_type": "code",
        "colab": {},
        "outputId": "7bea9bf2-648e-4097-fa49-da47c76e8638"
      },
      "source": [
        "import this"
      ],
      "execution_count": null,
      "outputs": [
        {
          "output_type": "stream",
          "text": [
            "The Zen of Python, by Tim Peters\n",
            "\n",
            "Beautiful is better than ugly.\n",
            "Explicit is better than implicit.\n",
            "Simple is better than complex.\n",
            "Complex is better than complicated.\n",
            "Flat is better than nested.\n",
            "Sparse is better than dense.\n",
            "Readability counts.\n",
            "Special cases aren't special enough to break the rules.\n",
            "Although practicality beats purity.\n",
            "Errors should never pass silently.\n",
            "Unless explicitly silenced.\n",
            "In the face of ambiguity, refuse the temptation to guess.\n",
            "There should be one-- and preferably only one --obvious way to do it.\n",
            "Although that way may not be obvious at first unless you're Dutch.\n",
            "Now is better than never.\n",
            "Although never is often better than *right* now.\n",
            "If the implementation is hard to explain, it's a bad idea.\n",
            "If the implementation is easy to explain, it may be a good idea.\n",
            "Namespaces are one honking great idea -- let's do more of those!\n"
          ],
          "name": "stdout"
        }
      ]
    },
    {
      "cell_type": "markdown",
      "metadata": {
        "id": "c9t3A3sTwCEL",
        "colab_type": "text"
      },
      "source": [
        "### 彩蛋3：寫程式寫累了，想要脫離地球嗎\n",
        "\n",
        "去看看火柴人漫畫吧（記得不要看漫畫看太久，要回來繼續寫程式）"
      ]
    },
    {
      "cell_type": "code",
      "metadata": {
        "id": "mKbSc6TNwCEM",
        "colab_type": "code",
        "colab": {}
      },
      "source": [
        "import antigravity"
      ],
      "execution_count": null,
      "outputs": []
    },
    {
      "cell_type": "markdown",
      "metadata": {
        "id": "yKd6R2-6wCEO",
        "colab_type": "text"
      },
      "source": [
        "## 【任務1-6】你的第一支Python程式\n",
        "\n",
        "在這支程式當中，包含了幾個語法：\n",
        "1. 標準輸入 (input)\n",
        "2. 標準輸出 (print)\n",
        "3. 日期與日期的計算 (取得目前的西元年，並計算出學年度的數字)"
      ]
    },
    {
      "cell_type": "code",
      "metadata": {
        "id": "X6X4quh1wCEP",
        "colab_type": "code",
        "colab": {},
        "outputId": "9cb605e7-8166-4b5e-bd49-4aa56efa9d2a"
      },
      "source": [
        "from datetime import date\n",
        "\n",
        "str = input('請輸入您的名字:')\n",
        "thisyear = date.today().year - 1911\n",
        "print('歡迎 {name} 來到「{year}學年度Python與人工智慧程式設計多元選修課」'.format(name=str, year=thisyear))"
      ],
      "execution_count": null,
      "outputs": [
        {
          "output_type": "stream",
          "text": [
            "請輸入您的名字: James\n"
          ],
          "name": "stdin"
        },
        {
          "output_type": "stream",
          "text": [
            "歡迎 James 來到「109學年度Python與人工智慧程式設計多元選修課」\n"
          ],
          "name": "stdout"
        }
      ]
    },
    {
      "cell_type": "markdown",
      "metadata": {
        "id": "7mGm_JX0wCES",
        "colab_type": "text"
      },
      "source": [
        "## 【任務1-7】用 Python 做數學運算"
      ]
    },
    {
      "cell_type": "markdown",
      "metadata": {
        "id": "VlRUzjzIwCES",
        "colab_type": "text"
      },
      "source": [
        "拿Python來當做計算機"
      ]
    },
    {
      "cell_type": "code",
      "metadata": {
        "id": "VjtDRxBbwCET",
        "colab_type": "code",
        "colab": {},
        "outputId": "78771c88-2273-47da-9d97-fe308a923342"
      },
      "source": [
        "1 + 1.5"
      ],
      "execution_count": null,
      "outputs": [
        {
          "output_type": "execute_result",
          "data": {
            "text/plain": [
              "2.5"
            ]
          },
          "metadata": {
            "tags": []
          },
          "execution_count": 6
        }
      ]
    },
    {
      "cell_type": "markdown",
      "metadata": {
        "id": "R0pMgyYywCEW",
        "colab_type": "text"
      },
      "source": [
        "Python有很多內建的常數，例如 $\\pi$，使用內建的常數我們就不用再自己產生了！"
      ]
    },
    {
      "cell_type": "code",
      "metadata": {
        "id": "YUTu4AB4wCEW",
        "colab_type": "code",
        "colab": {},
        "outputId": "9613b24f-246e-426b-dd24-b715fa08afd8"
      },
      "source": [
        "import math\n",
        "\n",
        "math.pi"
      ],
      "execution_count": null,
      "outputs": [
        {
          "output_type": "execute_result",
          "data": {
            "text/plain": [
              "3.141592653589793"
            ]
          },
          "metadata": {
            "tags": []
          },
          "execution_count": 7
        }
      ]
    },
    {
      "cell_type": "markdown",
      "metadata": {
        "id": "E0lrMzn1wCEZ",
        "colab_type": "text"
      },
      "source": [
        "用Python來解二元一次聯立方程式有幾種不同的方法，下面的例子是用一個Python的套件功能來解，語法是不是簡單易懂呢\n",
        "\n",
        "$x + 2y = 4$ <br />\n",
        "$x - 3y = 1$"
      ]
    },
    {
      "cell_type": "code",
      "metadata": {
        "id": "vPb9jvI-wCEZ",
        "colab_type": "code",
        "colab": {},
        "outputId": "8a9a90c7-5b87-4c43-8cf6-cdf186f60f7b"
      },
      "source": [
        "from sympy import *\n",
        "\n",
        "x = Symbol('x')\n",
        "y = Symbol('y')\n",
        "print(solve([-1 * x + 4 - 2 * y, x - 1 - 3 * y], [x, y]))"
      ],
      "execution_count": null,
      "outputs": [
        {
          "output_type": "stream",
          "text": [
            "{x: 14/5, y: 3/5}\n"
          ],
          "name": "stdout"
        }
      ]
    },
    {
      "cell_type": "markdown",
      "metadata": {
        "id": "rVosrGPtwCEc",
        "colab_type": "text"
      },
      "source": [
        "## 【任務1-8】用 Python 畫圖：matplotlib\n",
        "\n",
        "畫圖表是學習Python與AI程式時常需要用到的功能，`matplotlib` 是最受歡迎的套件之一。"
      ]
    },
    {
      "cell_type": "code",
      "metadata": {
        "id": "V8EtG8_rwCEc",
        "colab_type": "code",
        "colab": {}
      },
      "source": [
        "%matplotlib inline\n",
        "\n",
        "import matplotlib.pyplot as plt"
      ],
      "execution_count": null,
      "outputs": []
    },
    {
      "cell_type": "markdown",
      "metadata": {
        "id": "aBJbOBl9wCEf",
        "colab_type": "text"
      },
      "source": [
        "舉例來說，如果我們想要用中央氣象局的統計數字，畫一張折線圖來看看每個月平均氣溫的變化。\n",
        "\n",
        "首先我們可以從中央氣象局的網頁查到2020年台北市每個月的平均氣溫。\n",
        "\n",
        "|一月|二月|三月|四月|五月|六月|七月|\n",
        "|---|---|---|---|---|---|---|\n",
        "|17.9|18.7|20.8|20.9|26.9|30.5|30.9|\n",
        "\n",
        "資料來源：中央氣象局**每月氣象**網頁 [https://www.cwb.gov.tw/V8/C/C/Statistics/monthlydata.html](https://www.cwb.gov.tw/V8/C/C/Statistics/monthlydata.html)\n",
        "\n",
        "接著使用 matplotlib 的功能，幾行程式碼就可以畫面美觀的折線圖。"
      ]
    },
    {
      "cell_type": "code",
      "metadata": {
        "id": "msl_jykYwCEg",
        "colab_type": "code",
        "colab": {},
        "outputId": "4152ef2c-6f7c-4731-92d0-c4f210d8787f"
      },
      "source": [
        "x = [1, 2, 3, 4, 5, 6, 7]\n",
        "y = [17.9, 18.7, 20.8, 20.9, 26.9, 30.5, 30.9]\n",
        "x_ticks = ['Jan', 'Feb','Mar','Apr','May','Jun','Jul']\n",
        "\n",
        "fig1 = plt.figure()\n",
        "plt.xticks(x, x_ticks)\n",
        "plt.plot(x, y, 'r')\n",
        "plt.show()"
      ],
      "execution_count": null,
      "outputs": [
        {
          "output_type": "display_data",
          "data": {
            "image/png": "[encoded data removed]",
            "text/plain": [
              "<Figure size 432x288 with 1 Axes>"
            ]
          },
          "metadata": {
            "tags": [],
            "needs_background": "light"
          }
        }
      ]
    },
    {
      "cell_type": "markdown",
      "metadata": {
        "id": "uC7ndjHpwCEi",
        "colab_type": "text"
      },
      "source": [
        "想要用手繪風格繪製也可以。"
      ]
    },
    {
      "cell_type": "code",
      "metadata": {
        "id": "Fz6nu6PkwCEj",
        "colab_type": "code",
        "colab": {},
        "outputId": "8ba3bead-33cd-43f4-d5d8-5d1e51ff94e4"
      },
      "source": [
        "with plt.xkcd():\n",
        "    fig2 = plt.figure()\n",
        "    plt.plot(x, y, 'r')"
      ],
      "execution_count": null,
      "outputs": [
        {
          "output_type": "display_data",
          "data": {
            "image/png": "[encoded data removed]",
            "text/plain": [
              "<Figure size 432x288 with 1 Axes>"
            ]
          },
          "metadata": {
            "tags": []
          }
        }
      ]
    },
    {
      "cell_type": "markdown",
      "metadata": {
        "id": "sptfL2VKwCEl",
        "colab_type": "text"
      },
      "source": [
        "## 【任務1-9】Python內容太多了，記不得怎麼辦\n",
        "\n",
        "因為Python的模組與套件功能龐大，如果想要查看詳細功能或用法的話，可以用 `?` 加上要查詢的物件或是函式，就可以看到文件說明喔"
      ]
    },
    {
      "cell_type": "code",
      "metadata": {
        "id": "EA6P5Z5VwCEm",
        "colab_type": "code",
        "colab": {},
        "outputId": "cb15e2ea-c246-4bac-9502-2b763a71a46f"
      },
      "source": [
        "?print"
      ],
      "execution_count": null,
      "outputs": [
        {
          "output_type": "display_data",
          "data": {
            "text/plain": [
              "\u001b[0;31mDocstring:\u001b[0m\n",
              "print(value, ..., sep=' ', end='\\n', file=sys.stdout, flush=False)\n",
              "\n",
              "Prints the values to a stream, or to sys.stdout by default.\n",
              "Optional keyword arguments:\n",
              "file:  a file-like object (stream); defaults to the current sys.stdout.\n",
              "sep:   string inserted between values, default a space.\n",
              "end:   string appended after the last value, default a newline.\n",
              "flush: whether to forcibly flush the stream.\n",
              "\u001b[0;31mType:\u001b[0m      builtin_function_or_method\n"
            ]
          },
          "metadata": {
            "tags": []
          }
        }
      ]
    },
    {
      "cell_type": "code",
      "metadata": {
        "id": "RsjEhTwIwCEo",
        "colab_type": "code",
        "colab": {}
      },
      "source": [
        ""
      ],
      "execution_count": null,
      "outputs": []
    }
  ]
}